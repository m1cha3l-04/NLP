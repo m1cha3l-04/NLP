{
 "cells": [
  {
   "cell_type": "markdown",
   "metadata": {},
   "source": [
    "### Feature Extraction\n",
    "What is Feature Extraction?\n",
    ">**Feature extraction** is a process that identifies important features or attributes of the data. Some examples of this technique are pattern recognition and identifying common themes among a large collection of documents. If the data has a lot of dimensions (such as keywords in a document), then feature extraction can be used to produce a more concise description of the data."
   ]
  },
  {
   "cell_type": "markdown",
   "metadata": {},
   "source": [
    "### Example Feature Extraction for Image"
   ]
  },
  {
   "cell_type": "markdown",
   "metadata": {},
   "source": [
    ">![alt text](feature_extr.png \"Feature extraction\")"
   ]
  },
  {
   "cell_type": "markdown",
   "metadata": {},
   "source": [
    "### Feature Extraction for Text\n",
    "\n",
    ">Feature extraction is a process of transforming raw text data into a more structured format that can be used for further processing by machine learning algorithms. The goal of feature extraction is to identify the most relevant features of the text data that will help the machine learning algorithm to learn and make predictions.\n",
    "\n",
    "There are a number of different feature extraction techniques that can be used for natural language processing (NLP). Some of the most common techniques include:\n",
    "\n",
    ">* Bag-of-words: The bag-of-words model is a simple but effective feature extraction technique that counts the number of occurrences of each word in a document. This can be used to create a feature vector that represents the document.\n",
    ">* N-grams: N-grams are sequences of n words. N-grams can be used to create feature vectors that represent the order of words in a document.\n",
    ">* TF-IDF: TF-IDF stands for term frequency-inverse document frequency. TF-IDF is a weighting scheme that can be used to measure the importance of a word in a document.\n",
    ">* Word embeddings: Word embeddings are learned representations of words that capture the meaning of the words. Word embeddings can be used to create feature vectors that represent the meaning of words in a document."
   ]
  },
  {
   "cell_type": "markdown",
   "metadata": {},
   "source": [
    "### Example code for Feature Fxtraction using Bag of Words\n",
    "\n",
    ">![alt text](bag-of-words.png \"Bag of Words\")"
   ]
  },
  {
   "cell_type": "markdown",
   "metadata": {},
   "source": []
  }
 ],
 "metadata": {
  "language_info": {
   "name": "python"
  }
 },
 "nbformat": 4,
 "nbformat_minor": 2
}
